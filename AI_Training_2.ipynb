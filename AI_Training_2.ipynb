{
  "nbformat": 4,
  "nbformat_minor": 0,
  "metadata": {
    "colab": {
      "provenance": []
    },
    "kernelspec": {
      "name": "python3",
      "display_name": "Python 3"
    },
    "language_info": {
      "name": "python"
    }
  },
  "cells": [
    {
      "cell_type": "code",
      "execution_count": 4,
      "metadata": {
        "colab": {
          "base_uri": "https://localhost:8080/"
        },
        "id": "hYGzRvABWsXc",
        "outputId": "6509f64f-1001-42bd-c54f-686b14d5b0d4"
      },
      "outputs": [
        {
          "output_type": "stream",
          "name": "stdout",
          "text": [
            "Amr El-Shemy Instructor\n"
          ]
        }
      ],
      "source": [
        "print('Amr El-Shemy Instructor')"
      ]
    },
    {
      "cell_type": "code",
      "source": [
        "list = ['amr 1','ahmed 2','mohamed 3']\n",
        "print(list)\n",
        "\n",
        "list[0] = list[0].replace(' ','_')\n",
        "list[1] = list[1].replace(' ','_')\n",
        "list[2] = list[2].replace(' ','_')"
      ],
      "metadata": {
        "colab": {
          "base_uri": "https://localhost:8080/"
        },
        "id": "SfRFwc4tYeeA",
        "outputId": "198fc4d2-1ad6-42ce-f9bb-7cbcf902dabb"
      },
      "execution_count": 15,
      "outputs": [
        {
          "output_type": "stream",
          "name": "stdout",
          "text": [
            "['amr 1', 'ahmed 2', 'mohamed 3']\n"
          ]
        }
      ]
    },
    {
      "cell_type": "code",
      "source": [
        "final_list = []\n",
        "final_list.extend(list)\n",
        "print(final_list)\n"
      ],
      "metadata": {
        "colab": {
          "base_uri": "https://localhost:8080/"
        },
        "id": "kWDO9SqDeMgw",
        "outputId": "66d971fa-d33e-4dc2-81ea-bee5cf5d825f"
      },
      "execution_count": 16,
      "outputs": [
        {
          "output_type": "stream",
          "name": "stdout",
          "text": [
            "['amr_1', 'ahmed_2', 'mohamed_3']\n"
          ]
        }
      ]
    },
    {
      "cell_type": "code",
      "source": [
        "list = [1, 2, 3, 4, 5, 6, 7, 8, 9]\n",
        "\n",
        "for num in list:\n",
        "    if num > 1:\n",
        "        for i in range(2, num):\n",
        "            if (num % i) == 0:\n",
        "                break\n",
        "        else:\n",
        "            print(num)"
      ],
      "metadata": {
        "colab": {
          "base_uri": "https://localhost:8080/"
        },
        "id": "uYTAMiQyepF9",
        "outputId": "a0f90f28-ec5d-49a2-82d8-f1119c17f24b"
      },
      "execution_count": 27,
      "outputs": [
        {
          "output_type": "stream",
          "name": "stdout",
          "text": [
            "2\n",
            "3\n",
            "5\n",
            "7\n"
          ]
        }
      ]
    },
    {
      "cell_type": "code",
      "source": [
        "#1. Get the Largest Number from a List\n",
        "#2. Remove Duplicates from a List\n",
        "#3. Check if Two Lists Have at Least One Common Member"
      ],
      "metadata": {
        "id": "KLbfjy6OmNrt"
      },
      "execution_count": 42,
      "outputs": []
    },
    {
      "cell_type": "code",
      "source": [
        "list = [1, 2, 3, 4, 5, 6, 7, 8, 9]\n",
        "\n",
        "largest_num = list[0]\n",
        "for num in list:\n",
        "    if num > largest_num:\n",
        "        largest_num = num\n",
        "\n",
        "print(largest_num)"
      ],
      "metadata": {
        "colab": {
          "base_uri": "https://localhost:8080/"
        },
        "id": "Fyf_pY4vfyMh",
        "outputId": "188a1846-e30a-4be6-c117-254ee25300e9"
      },
      "execution_count": 43,
      "outputs": [
        {
          "output_type": "stream",
          "name": "stdout",
          "text": [
            "9\n"
          ]
        }
      ]
    },
    {
      "cell_type": "code",
      "source": [
        "list = [1, 2, 3, 3, 5, 5, 7, 8, 9]\n",
        "new_list = []\n",
        "for num in list:\n",
        "    if num not in new_list:\n",
        "        new_list.append(num)\n",
        "\n",
        "print(new_list)"
      ],
      "metadata": {
        "colab": {
          "base_uri": "https://localhost:8080/"
        },
        "id": "Jvvpu4YzkV3z",
        "outputId": "769e29a6-9cd7-4cee-fc4b-1782d90c892d"
      },
      "execution_count": 46,
      "outputs": [
        {
          "output_type": "stream",
          "name": "stdout",
          "text": [
            "[1, 2, 3, 5, 7, 8, 9]\n"
          ]
        }
      ]
    },
    {
      "cell_type": "code",
      "source": [
        "list1 = [1, 2, 3, 4, 5]\n",
        "list2 = [5, 6, 7, 8, 9]\n",
        "\n",
        "for i in list1:\n",
        "    if i in list2:\n",
        "      print('the common is: ', i)\n",
        "      break\n",
        "else:\n",
        "    print(\"no common\")\n"
      ],
      "metadata": {
        "colab": {
          "base_uri": "https://localhost:8080/"
        },
        "id": "CMv937ZjlBbz",
        "outputId": "8db87ee2-31f7-4b0f-95cb-c1ba52a193f6"
      },
      "execution_count": 47,
      "outputs": [
        {
          "output_type": "stream",
          "name": "stdout",
          "text": [
            "the common is:  5\n"
          ]
        }
      ]
    },
    {
      "cell_type": "code",
      "source": [
        "def mult(x,y):\n",
        "    return x*y"
      ],
      "metadata": {
        "id": "j6bgzFZcl1Um"
      },
      "execution_count": 48,
      "outputs": []
    },
    {
      "cell_type": "code",
      "source": [
        "print(mult(2,3))\n"
      ],
      "metadata": {
        "colab": {
          "base_uri": "https://localhost:8080/"
        },
        "id": "gqEAcF6yq30h",
        "outputId": "0ee264a6-4c37-4073-d3e5-3c17588f1495"
      },
      "execution_count": 49,
      "outputs": [
        {
          "output_type": "stream",
          "name": "stdout",
          "text": [
            "6\n"
          ]
        }
      ]
    },
    {
      "cell_type": "code",
      "source": [
        "#task 1\n",
        "def func(num_list):\n",
        "    num_list.sort()\n",
        "    result = []\n",
        "    for i in range(len(num_list) - 1):\n",
        "        sum = num_list[i] + num_list[i + 1]\n",
        "        result.append(sum)\n",
        "    return result\n",
        "\n",
        "numbers = [1, 2, 3, 4, 5, 6]\n",
        "sum= func(numbers)\n",
        "print(sum)"
      ],
      "metadata": {
        "colab": {
          "base_uri": "https://localhost:8080/"
        },
        "id": "3ycYUG8Dq7kJ",
        "outputId": "297596b3-dd64-4108-e55c-2ab2ec605842"
      },
      "execution_count": 52,
      "outputs": [
        {
          "output_type": "stream",
          "name": "stdout",
          "text": [
            "[3, 5, 7, 9, 11]\n"
          ]
        }
      ]
    },
    {
      "cell_type": "code",
      "source": [
        "#---------------------------------------------"
      ],
      "metadata": {
        "id": "2flNQtT4ta29"
      },
      "execution_count": 54,
      "outputs": []
    },
    {
      "cell_type": "code",
      "source": [
        "s = 'hello world'\n",
        "print(s[::-1])"
      ],
      "metadata": {
        "colab": {
          "base_uri": "https://localhost:8080/"
        },
        "id": "BhFRSw52ArpQ",
        "outputId": "15d5ca26-e984-4817-cc9b-a340dd6731fe"
      },
      "execution_count": 56,
      "outputs": [
        {
          "output_type": "stream",
          "name": "stdout",
          "text": [
            "dlrow olleh\n"
          ]
        }
      ]
    },
    {
      "cell_type": "code",
      "source": [
        "#Remove duplicate lists from a list of lists.\n",
        "#Given:\n",
        "#lists_of_lists = [['a', 'b', 'c'], ['d', 'e', 'f'], ['a', 'b', 'c']]"
      ],
      "metadata": {
        "id": "VgYQ5LjeR7dd"
      },
      "execution_count": 60,
      "outputs": []
    },
    {
      "cell_type": "code",
      "source": [
        "list = [['a', 'b', 'c'], ['d', 'e', 'f'], ['a', 'b', 'c']]\n",
        "result = []\n",
        "\n",
        "for lst in list:\n",
        "    if lst not in result:\n",
        "        result.append(lst)"
      ],
      "metadata": {
        "id": "i7f-ViI_ML4k"
      },
      "execution_count": 61,
      "outputs": []
    },
    {
      "cell_type": "code",
      "source": [
        "result"
      ],
      "metadata": {
        "colab": {
          "base_uri": "https://localhost:8080/"
        },
        "id": "pD8YV8doRfrK",
        "outputId": "8ed09a57-94e4-492e-9048-1dd00cf0b536"
      },
      "execution_count": 62,
      "outputs": [
        {
          "output_type": "execute_result",
          "data": {
            "text/plain": [
              "[['a', 'b', 'c'], ['d', 'e', 'f']]"
            ]
          },
          "metadata": {},
          "execution_count": 62
        }
      ]
    },
    {
      "cell_type": "code",
      "source": [
        "#task 3"
      ],
      "metadata": {
        "id": "QUcuHCUFRlLJ"
      },
      "execution_count": 63,
      "outputs": []
    },
    {
      "cell_type": "code",
      "source": [
        "list = [1, 2, 3]\n",
        "\n",
        "list.append(4)\n",
        "print(\"append 4:\", list)\n",
        "\n",
        "list.append([5, 6])\n",
        "print(\"append [5, 6]:\", list)\n",
        "\n",
        "list.extend([7, 8])\n",
        "print(\"append [7, 8]:\", list)\n",
        "\n",
        "list.extend([9, 10])\n",
        "print(\"append [9, 10]:\", list)\n"
      ],
      "metadata": {
        "colab": {
          "base_uri": "https://localhost:8080/"
        },
        "id": "-oZkfhYFSJvf",
        "outputId": "f6bee360-db11-49d1-d22a-fd91b964e73e"
      },
      "execution_count": 64,
      "outputs": [
        {
          "output_type": "stream",
          "name": "stdout",
          "text": [
            "append 4: [1, 2, 3, 4]\n",
            "append [5, 6]: [1, 2, 3, 4, [5, 6]]\n",
            "append [7, 8]: [1, 2, 3, 4, [5, 6], 7, 8]\n",
            "append [9, 10]: [1, 2, 3, 4, [5, 6], 7, 8, 9, 10]\n"
          ]
        }
      ]
    },
    {
      "cell_type": "code",
      "source": [
        "#task4"
      ],
      "metadata": {
        "id": "XZRHIqT7SbbB"
      },
      "execution_count": 85,
      "outputs": []
    },
    {
      "cell_type": "code",
      "source": [
        "my_list = [1, 2, 3, 4, 5]\n",
        "my_tuple = (1, 2, 3, 4, 5)\n",
        "my_set = {1, 2, 3, 4, 5}\n",
        "my_dict = {'name': 'John', 'age': 28, 'city': 'New York'}\n",
        "\n",
        "my_list.append(6)\n",
        "my_set.add(6)\n",
        "print(\"add 6 to list:\", my_list)\n",
        "print(\"add 6 to set:\", my_set)\n",
        "\n",
        "my_list.remove(2)\n",
        "my_set.discard(2)\n",
        "print(\"remove 2:\", my_list)\n",
        "print(\"remove 2:\", my_set)\n",
        "\n",
        "sec_element = my_tuple[1]\n",
        "print('second elements is: ',sec_element)\n",
        "\n",
        "age = my_dict['age']\n",
        "print('the age value is: ',age)\n",
        "\n",
        "foundL = 3 in my_list\n",
        "foundS = 3 in my_set\n",
        "print(foundL)\n",
        "print(foundS)\n",
        "\n",
        "set_to_list = [*my_set]\n",
        "newList = my_list + set_to_list\n",
        "print(newList)\n",
        "\n",
        "my_dict['country'] = 'USA'\n",
        "print(\"New Dic:\", my_dict)\n",
        "\n",
        "\n",
        "print(len(my_list))\n",
        "\n",
        "\n",
        "print(sum(my_list))\n"
      ],
      "metadata": {
        "colab": {
          "base_uri": "https://localhost:8080/"
        },
        "id": "tqSCktShbHJE",
        "outputId": "cdcac2ea-6c03-43ea-b9dc-9ebf03534a2a"
      },
      "execution_count": 86,
      "outputs": [
        {
          "output_type": "stream",
          "name": "stdout",
          "text": [
            "add 6 to list: [1, 2, 3, 4, 5, 6]\n",
            "add 6 to set: {1, 2, 3, 4, 5, 6}\n",
            "remove 2: [1, 3, 4, 5, 6]\n",
            "remove 2: {1, 3, 4, 5, 6}\n",
            "second elements is:  2\n",
            "the age value is:  28\n",
            "True\n",
            "True\n",
            "[1, 3, 4, 5, 6, 1, 3, 4, 5, 6]\n",
            "New Dic: {'name': 'John', 'age': 28, 'city': 'New York', 'country': 'USA'}\n",
            "5\n",
            "19\n"
          ]
        }
      ]
    },
    {
      "cell_type": "code",
      "source": [
        "n = int(input(\"your number: \"))\n",
        "\n",
        "if n > 0:\n",
        "    print('positive')\n",
        "elif num < 0:\n",
        "    print('negative')\n",
        "else:\n",
        "    print('zero')\n"
      ],
      "metadata": {
        "colab": {
          "base_uri": "https://localhost:8080/"
        },
        "id": "1VO4zdgxbP71",
        "outputId": "dd9ee1e4-baa1-4520-b7cd-27f679272461"
      },
      "execution_count": 89,
      "outputs": [
        {
          "output_type": "stream",
          "name": "stdout",
          "text": [
            "your number: 0\n",
            "zero\n"
          ]
        }
      ]
    },
    {
      "cell_type": "code",
      "source": [],
      "metadata": {
        "id": "YuZWxTrugQJe"
      },
      "execution_count": null,
      "outputs": []
    }
  ]
}